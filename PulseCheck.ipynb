{
 "cells": [
  {
   "cell_type": "code",
   "execution_count": 3,
   "metadata": {},
   "outputs": [
    {
     "name": "stdout",
     "output_type": "stream",
     "text": [
      "233168\n"
     ]
    }
   ],
   "source": [
    "\"\"\"If we list all the natural numbers below 10 that are multiples of 3 or 5, we get 3, 5, 6 and 9. \n",
    "    The sum of these multiples is 23. Find the sum of all the multiples of 3 or 5 below 1000.\"\"\"\n",
    "\n",
    "max_num = 1000  # notice this here\n",
    "tot_sum = 0\n",
    "for i in range(0,max_num):\n",
    "    if i%3 == 0 or i%5 == 0:\n",
    "        tot_sum += i\n",
    "\n",
    "print(tot_sum)"
   ]
  },
  {
   "cell_type": "code",
   "execution_count": 5,
   "metadata": {},
   "outputs": [
    {
     "name": "stdout",
     "output_type": "stream",
     "text": [
      "233168\n"
     ]
    }
   ],
   "source": [
    "#Method 2 for above ^ question:\n",
    "\n",
    "#Using function\n",
    "\n",
    "def divisibles(tot_max, * divisors):\n",
    "    return (n for n in range(tot_max) if 0 in (n % d for d in divisors))\n",
    "\n",
    "print(sum(divisibles(1000, 3, 5)))"
   ]
  },
  {
   "cell_type": "code",
   "execution_count": 7,
   "metadata": {},
   "outputs": [
    {
     "data": {
      "text/plain": [
       "233168"
      ]
     },
     "execution_count": 7,
     "metadata": {},
     "output_type": "execute_result"
    }
   ],
   "source": [
    "#other method: generator expression\n",
    "\n",
    "sum([i for i in range(1000) if i % 3 == 0 or i % 5 == 0])"
   ]
  },
  {
   "cell_type": "code",
   "execution_count": null,
   "metadata": {},
   "outputs": [],
   "source": [
    "\"\"\"Even fibonacci numbers\"\"\"\n",
    "\n",
    "\"\"\"By considering the terms in the Fibonacci sequence whose values do not exceed four million, find the sum of the even-valued terms.\"\"\"\n",
    "\n",
    "def sum_fib(max_limit=4000000):\n",
    "    cur, prev = 1, 0\n",
    "    total = 0 \n",
    "    while cur < max_limit:\n",
    "        if cur % 2 == 0:\n",
    "            total += cur \n",
    "            cur, prev = cur+prev, cur \n",
    "\n",
    "    return total"
   ]
  },
  {
   "cell_type": "code",
   "execution_count": null,
   "metadata": {},
   "outputs": [],
   "source": []
  },
  {
   "cell_type": "code",
   "execution_count": null,
   "metadata": {},
   "outputs": [],
   "source": []
  },
  {
   "cell_type": "code",
   "execution_count": null,
   "metadata": {},
   "outputs": [],
   "source": []
  }
 ],
 "metadata": {
  "kernelspec": {
   "display_name": "Python 3",
   "language": "python",
   "name": "python3"
  },
  "language_info": {
   "codemirror_mode": {
    "name": "ipython",
    "version": 3
   },
   "file_extension": ".py",
   "mimetype": "text/x-python",
   "name": "python",
   "nbconvert_exporter": "python",
   "pygments_lexer": "ipython3",
   "version": "3.7.4"
  }
 },
 "nbformat": 4,
 "nbformat_minor": 2
}
